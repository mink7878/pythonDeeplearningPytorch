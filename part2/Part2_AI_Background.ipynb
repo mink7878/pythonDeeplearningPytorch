{
 "cells": [
  {
   "cell_type": "markdown",
   "id": "interstate-anatomy",
   "metadata": {},
   "source": [
    "# 1. 인공지능(딥러닝)의 정의와 사례"
   ]
  },
  {
   "cell_type": "markdown",
   "id": "ancient-virtue",
   "metadata": {},
   "source": [
    "## 1.1 인공지능이란?"
   ]
  },
  {
   "cell_type": "markdown",
   "id": "eligible-dealing",
   "metadata": {},
   "source": [
    "- 인공지능  \n",
    ": 컴퓨터가 데이터를 이용해 학습할 수 있도록 하는 기술. 머신러닝, 딥러닝 모두 포함."
   ]
  },
  {
   "cell_type": "markdown",
   "id": "excellent-horse",
   "metadata": {},
   "source": [
    "## 1.2 인공지능의 사례"
   ]
  },
  {
   "cell_type": "markdown",
   "id": "premier-dallas",
   "metadata": {},
   "source": [
    "### 1.2.2 객체 탐지 (Object Detection)"
   ]
  },
  {
   "cell_type": "markdown",
   "id": "african-analyst",
   "metadata": {},
   "source": [
    "- 어떤 이미지 및 비디오 속에 포함돼 있는 물체에 대해 __해당 물체가 어떤 물체인지를 분류하는 문제__와 __물체의 위치를 찾아내는 문제__\n",
    "- 딥러닝 모델이 다량의 이미지 및 비디오 데이터를 활용해 이미지 및 비디오 내 __특정 물체의 위치 정보를 X, Y 좌표값__과 __해당 물체의 크기인 Width, Height 값__을 레이블 정보로 이용해 학습.\n",
    "- 연구자들은 (X, Y, W, H) 정보를 보통 __'Bounding Box'__라고 표현\n",
    "- 객체 탐지 기술은 최근 들어 자율주행 자동차, CCTV 등과 같은 카메라 기술을 바탕으로 개발되고 있는 제품 및 서비스에 도입되고 있으며 현재 다양한 연구 진행 중"
   ]
  },
  {
   "cell_type": "markdown",
   "id": "exact-tamil",
   "metadata": {},
   "source": [
    "### 1.2.3 텍스트"
   ]
  },
  {
   "cell_type": "markdown",
   "id": "outer-airfare",
   "metadata": {},
   "source": [
    "- 텍스트 분야는 세부 task로 나뉘어 연구 진행 됨.\n",
    "    - 기계 번역\n",
    "    - 문장(또는 문서) 분류\n",
    "    - 질의 응답 시스템\n",
    "    - 개체명 인식\n",
    "- 이미지 영역과 달리 텍스트 분야에서는 기계가 인간의 성능을 따라잡기 어려웠다.  \n",
    "    - 텍스트 task는 이미지에 비해 배경 지식이 요구  \n",
    "    - 주로 사용한 순환신경망(RNN) 계열의 모델 한계 역시 해결해야할 문제!\n",
    "- 그러나 2017년 구글이 발표한 <Attention Is All You Need>라는 논문의 Transformer Module 연구를 시작으로 인간의 성능을 넘어서는 language model이 개발되기 시작함."
   ]
  },
  {
   "cell_type": "markdown",
   "id": "earned-spoke",
   "metadata": {},
   "source": [
    "# 5. 인공 신경망"
   ]
  },
  {
   "cell_type": "markdown",
   "id": "devoted-morning",
   "metadata": {},
   "source": [
    "## 5.1 퍼셉트론"
   ]
  },
  {
   "cell_type": "markdown",
   "id": "transsexual-difficulty",
   "metadata": {},
   "source": [
    "- 퍼셉트론은 feed-forward network 모형의 가장 간단한 형태이며 __선형 분류 모형의 형태__를 띠고 있음.\n",
    "- input과 weight가 선형 결합의 형태를 띰. 이 선형 결합의 값에 특정 임계값의 초과 여부를 판단하는 함수(__활성화 함수__)를 적용 후 결과값을 내보내 분류하는 모형을 '퍼셉트론'이라 함.\n",
    "- 퍼셉트론은 처음에 weight를 랜덤하게 설정한 후 모델의 error와 weight를 개선해 나감. 그리고 학습규칙(__델타규칙__)에 따라 weight가 업데이트 됨. 모든 데이터를 올바르게 분류할 때까지 이 과정을 거친다.  \n",
    "> $w_i ← w_i + △w_i$  \n",
    "> 여기서 $△w_i = \\eta (t-o)x_i$  \n",
    "> $t$ = 실제값, $o$ = 예측값\n",
    "- 델타규칙 참고  \n",
    ": https://bi.snu.ac.kr/~scai/Courses/ML2019/slides/Chap2_NN.pdf  \n",
    ": http://www.datamarket.kr/xe/index.php?mid=board_LCmL04&document_srl=25685&listStyle=viewer\n",
    "\n",
    "- 그러나 이 퍼셉트론은 선형 분류 모형의 형태를 띠고 있기 때문에 선형 문제밖에 풀지 못함. (비선형 문제는 풀지 못함.)  \n",
    "    => 일정 error를 허용하고 선을 그을 수밖에 없다."
   ]
  },
  {
   "cell_type": "markdown",
   "id": "uniform-offering",
   "metadata": {},
   "source": [
    "### 5.1.1 MLP (Multi Layer Perceptron)"
   ]
  },
  {
   "cell_type": "markdown",
   "id": "critical-pantyhose",
   "metadata": {},
   "source": [
    "- 퍼셉트론이 지니고 있는 한계점 극복 위해 __여러 layer 쌓아올린 'MLP'__ 등장!\n",
    "- 퍼셉트론은 input과 output layer만으로 구성돼 있지만, __MLP는 중간에 hidden layer를 넣은 형태__\n",
    "- 그렇다면 MLP의 hidden layer는 여러 퍼셉트론의 조합으로 볼 수 있고, 이들의 조합이 output layer로 연결된다.\n",
    "- 즉, MLP는 __여러 개의 퍼셉트론 조합과 이것들의 재조합으로 복잡한 비선형적인 모형을 만들어내는 것__이라 할 수 있다. \n",
    "- 딥러닝의 기본 구조가 되는 것이 신경망이라면 기본적으로 MLP를 의미한다."
   ]
  },
  {
   "cell_type": "markdown",
   "id": "varied-transport",
   "metadata": {},
   "source": [
    "### 5.1.3 Back Propagation"
   ]
  },
  {
   "cell_type": "markdown",
   "id": "current-torture",
   "metadata": {},
   "source": [
    "- Back Propagation  \n",
    ": Feed Forward를 이용해 계산된 error를 바탕으로 뒤의 weight부터 업데이트 하는 과정. (error를 뒤에서부터 전파)\n",
    "- Feed Forward와 Back Propagation을 계속 반복하면서 weight를 업데이트하며 점차 신경망의 output(예측값)이 실제값에 가까워지면서 모델의 학습이 이뤄진다.\n",
    "- 데이터를 여러 번 Feed Forward & Back Propagation 반복하는 횟수를 __epoch__이라고 한다. 즉, 전체 훈련 데이터가 학습에 한 번 사용된 주기를 의미. (미니배치 학습에서는 미니배치 개수만큼 경사하강법을 수행해야 전체 데이터가 한 번 전부 사용되어 1epoch이 됨)\n",
    "- epoch 참고  \n",
    ": https://wikidocs.net/55580\n",
    "- 정리  \n",
    ": 신경망의 input → hidden → output 까지는 데이터에서 예측값을 계산하는 __Feed Forward 과정__, output → error 계산 → weight 업데이트 하는 과정을 __Back Propagation 과정__이라고 한다."
   ]
  },
  {
   "cell_type": "markdown",
   "id": "abstract-stations",
   "metadata": {},
   "source": [
    "### 5.1.4 활성 함수"
   ]
  },
  {
   "cell_type": "markdown",
   "id": "figured-freight",
   "metadata": {},
   "source": [
    "- 활성 함수는 어떤 신호를 입력받아 이를 적절히 처리해 출력해주는 함수를 의미.\n",
    "- input과 weight들의 선형 결합을 활성 함수 $f$에 넣어 출력한다.\n",
    "- 신경망에서는 기본적으로 __비선형 활성 함수__를 사용한다."
   ]
  },
  {
   "cell_type": "markdown",
   "id": "gross-louis",
   "metadata": {},
   "source": [
    "### 5.1.5 시그모이드 함수"
   ]
  },
  {
   "cell_type": "markdown",
   "id": "constitutional-upset",
   "metadata": {},
   "source": [
    "- 비선형 활성 함수 중 가장 기본적으로 사용하는 함수\n",
    "- 수식  \n",
    ": $\\sigma(x) = \\frac{1}{1 + e^{-x}}$"
   ]
  },
  {
   "cell_type": "code",
   "execution_count": 13,
   "id": "polyphonic-overview",
   "metadata": {},
   "outputs": [
    {
     "data": {
      "image/png": "[encoded data removed]",
      "text/plain": [
       "<IPython.core.display.Image object>"
      ]
     },
     "execution_count": 13,
     "metadata": {
      "image/png": {
       "width": 300
      }
     },
     "output_type": "execute_result"
    }
   ],
   "source": [
    "# 시그모이드 함수 형태\n",
    "from IPython.display import Image\n",
    "Image(filename='1.png', width=300)"
   ]
  },
  {
   "cell_type": "markdown",
   "id": "southeast-heritage",
   "metadata": {},
   "source": [
    "- 즉, 시그모이드 함수는 입력값에 대해 0부터 1사이로 scaling 해주는 개념이라 보면 됨.\n",
    "- 이 비선형 활성 함수를 사용하는 이유는 우리가 풀고자 하는 것이 비선형적인 복잡한 문제이기 때문\n",
    "- 기존에는 신경망 모형이 직선밖에 긋지 못했다면, 비선형화시켜 여러 곡선의 조합으로 복잡한 문제를 풀 수 있게 됨.\n",
    "- 그러나 시그모이드 함수는 Back Propagation 과정 중 __gradient vanishing__ 현상이 발생할 수 있으며, 이는 hidden layer가 쌓일수록 (모델이 깊어질수록) 심해진다."
   ]
  },
  {
   "cell_type": "markdown",
   "id": "facial-tradition",
   "metadata": {},
   "source": [
    "### 5.1.6 Gradient Descent Method (기울기 경사 하강법)"
   ]
  },
  {
   "cell_type": "markdown",
   "id": "corresponding-reporter",
   "metadata": {},
   "source": [
    "- 가장 간단한 선형 회귀 모형은 loss function을 MSE로 설정해 MSE가 감소하도록 회귀계수($\\beta$)를 추정한다.  \n",
    "    => MSE는 회귀계수($\\beta$)에 대한 함수로 볼 수 있다.  \n",
    "    => 선형 회귀 모델의 경우에는 직선으로 이뤄진 비교적 간단한 모델이기 때문에 MSE가 최소가 되는 지점을 한 번에 찾을 수 있다.\n",
    "    \n",
    "- 신경망 모델은 hidden layer가 깊어질수록, hidden node가 많아질수록 더욱 복잡해진다.  \n",
    "    => 신경망 모델엣 MSE를 신경망 모형의 weight로 미분해 기울기가 0인 지점을 찾을 수 없다.  \n",
    "    => 그래서 MSE를 신경망 모델의 weight로 미분해 기울기를 감소시켜 최소가 되는 지점을 찾아간다.  \n",
    "    => 즉, 한 번에 기울기가 최소가 되는 지점을 찾기 어렵기 때문에 산의 정상에서 차근차근 내려오면서 길을 찾듯이 기울기를 조금씩 구해 MSE가 낮아지는 지점을 찾아간다.  \n",
    "    => 기본적으로 정규분포, 균등분포에서 난수를 추출해 초기 weight를 설정하지만, 더 좋은 초기 weight를 설정하기 위한 방법이 존재."
   ]
  },
  {
   "cell_type": "markdown",
   "id": "motivated-hayes",
   "metadata": {},
   "source": [
    "# [예제 2-1] MNIST를 이용해 MLP 설계하기"
   ]
  },
  {
   "cell_type": "markdown",
   "id": "intense-cruise",
   "metadata": {},
   "source": [
    "- MLP 모델 설계 순서  \n",
    "> 1. 모듈 임포트  \n",
    "> 2. 딥러닝 모델을 설계할 때 활용하는 장비 확인  \n",
    "> 3. MNIST 데이터 다운로드 (train set, test set 분리)  \n",
    "> 4. 데이터 확인 ①  \n",
    "> 5. 데이터 확인 ②  \n",
    "> 6. MLP 모델 설계  \n",
    "> 7. optimizer, objective function 설계  \n",
    "> 8. MLP 모델 학습 진행하면서 학습 데이터에 대한 모델 성능을 확인하는 함수 정의  \n",
    "> 9. 학습되는 과정 속에서 검증 데이터에 대한 모델의 성능을 확인하는 함수 정의  \n",
    "> 10. MLP 학습을 실행하면서 train, test set의 loss 및 test set accuracy 확인"
   ]
  },
  {
   "cell_type": "markdown",
   "id": "arbitrary-fabric",
   "metadata": {},
   "source": [
    "### 5.1.7 Universial Approximation Theorem"
   ]
  },
  {
   "cell_type": "markdown",
   "id": "advance-colon",
   "metadata": {},
   "source": [
    "- 신경망 이론 중 가장 유명하고 신경망 학습의 특성을 잘 나타내주는 이론.\n",
    "- 'hidden layer가 1개 이상인 신경망(기본적인 MLP)은 학습 데이터 내에서 어떤 함수든 근사시킬 수 있다'라는 이론\n",
    "- 즉, 기본적인 MLP 이상의 신경망은 학습 데이터 내에서 어떤 모델이든 만들 수 있다. \n",
    "- 하지만 크게 2가지 의문이 생김  \n",
    "> 1. '신경망이 엄청 좋은 모델이구나'  \n",
    "> -> 이 이론의 전제는 '학습 데이터 내에서'이기 때문에 실제 데이터에 잘 맞는다는 보장 x -> 과적합 가능성 높음  \n",
    "> 2. 'hidden layer가 1개 이상이면 되는 거라면 굳이 layer를 깊게 쌓을 필요가 있나?'  \n",
    "> -> layer를 깊게 쌓는 것은 좀 더 복잡한 모형을 만들 수 있다는 것을 의미.  \n",
    "> -> 복잡한 문제에 대해 간단한 모델보다 복잡한 모형을 쓰면 좀 더 효율적으로 모델링할 수 있다. "
   ]
  },
  {
   "cell_type": "markdown",
   "id": "distinct-soundtrack",
   "metadata": {},
   "source": [
    "## 5.2 신경망 모형의 단점"
   ]
  },
  {
   "cell_type": "markdown",
   "id": "electronic-sport",
   "metadata": {},
   "source": [
    "### 5.2.1 과적합"
   ]
  },
  {
   "cell_type": "markdown",
   "id": "pleased-village",
   "metadata": {},
   "source": [
    "- 실험 설계를 통해 적절히 데이터를 나눠 과적합 정도를 파악하고 적절한 모델과 변수를 선택해야 한다.\n",
    "- 그중에서도 신경망은 과적합이 심하게 일어난다. \n",
    "- __신경망의 목적은 결국 학습 데이터 내에서 loss를 최소화하는 것이기 때문에 좀 더 좋은 decision boundary를 만들려고 노력하지 않는다.__"
   ]
  },
  {
   "cell_type": "markdown",
   "id": "central-layer",
   "metadata": {},
   "source": [
    "### 5.2.2 Gradient Vanishing Problem"
   ]
  },
  {
   "cell_type": "markdown",
   "id": "agricultural-network",
   "metadata": {},
   "source": [
    "- 기울기가 사라지는 현상을 말함.\n",
    "- weight를 업데이트하는 것 중에 유심히 봐야할 곳이 hidden layer를 미분한 값이다. hidden layer가 깊어질수록 이 값을 뒤의 error값에 곱해야 한다. \n",
    "- 시그모이드 함수의 output 최대값은 0.25이다. 그렇다면 hidden layer가 깊어질수록 앞의 gradient를 구하기 위해서는 이 시그모이드를 미분한 값을 계속 곱해야 한다. 그러면 그 값은 거의 0에 수렴하게 된다. 즉, layer가 깊어질수록 weight의 gradient는 큰 변화가 없어지고 weight의 변화도 거의 일어나지 x\n",
    "- 앞서 layer가 깊어질수록 복잡한 모델을 만들어 복잡한 문제를 풀 수 있다고 했지만 gradient vanishing이 일어나면 신경망이 지니고 있는 장점이 발휘되지 x  \n",
    "    => 이론적으로는 layer가 깊어질수록 신경망은 복잡한 모델을 만들 수 있지만, Back Propagation 과정에서 활성 함수를 미분하는 값을 곱해주는 특성상 실제로는 학습이 이뤄지지 않는다는 단점.  \n",
    "    => 그래서 gradient가 감소하지 않도록 여러 활성 함수가 등장했다."
   ]
  }
 ],
 "metadata": {
  "kernelspec": {
   "display_name": "Python 3",
   "language": "python",
   "name": "python3"
  },
  "language_info": {
   "codemirror_mode": {
    "name": "ipython",
    "version": 3
   },
   "file_extension": ".py",
   "mimetype": "text/x-python",
   "name": "python",
   "nbconvert_exporter": "python",
   "pygments_lexer": "ipython3",
   "version": "3.8.3"
  }
 },
 "nbformat": 4,
 "nbformat_minor": 5
}
